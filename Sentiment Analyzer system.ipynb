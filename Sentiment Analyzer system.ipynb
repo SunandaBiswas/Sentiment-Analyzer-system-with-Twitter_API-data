{
 "cells": [
  {
   "cell_type": "markdown",
   "id": "9f8b6cf3",
   "metadata": {},
   "source": [
    "# Sentiment Analyzer System"
   ]
  },
  {
   "cell_type": "raw",
   "id": "beab0986",
   "metadata": {},
   "source": [
    "Sentiment analysis is a natural language processing technique used to determine whether data is positive, negative or neutral. \n",
    "It is often performed on textual data to help businesses monitor brand and product sentiment in customer feedback and understand customer needs.\n",
    "\n",
    "Sentiment analysis basically studies the subjective information in an expression, such as the opinions, emotions, appraisals, or attitude towards a topic, person or entity. \n",
    "\n",
    "For example: \n",
    "customer feedback: \"Your services were really satisfying.\"\n",
    "that is a positive feedback\n",
    "\n",
    "So in this project, a system will be created that would be able to find out the sentiments of any given text."
   ]
  },
  {
   "cell_type": "code",
   "execution_count": 1,
   "id": "259d7540",
   "metadata": {},
   "outputs": [],
   "source": [
    "#importing necessary libraries\n",
    "import tweepy,re                 #importing 're' for regular expressions, 'tweepy' for accessing twitter API\n",
    "from textblob import TextBlob    \n",
    "import matplotlib.pyplot as plt\n",
    "import pandas as pd\n",
    "from nltk.tokenize import word_tokenize\n",
    "from nltk.stem import WordNetLemmatizer\n",
    "from nltk.corpus import stopwords"
   ]
  },
  {
   "cell_type": "raw",
   "id": "42add0ac",
   "metadata": {},
   "source": [
    "Tweepy is an open source Python package that allows you to access the Python Twitter API in a very convenient manner. Tweepy contains a range of Twitter models and API endpoints classes and processes and handles various implementation details in a transparent fashion like: encoding and decoding of data."
   ]
  },
  {
   "cell_type": "raw",
   "id": "4b2b34af",
   "metadata": {},
   "source": [
    "TextBlob is a library for text data processing in Python (2 and 3). It offers a simple API that allows users to immerse themselves in common tasks such as speech-specific tagging, extraction of a single sentence, feelings analysis, classification, translation and many more."
   ]
  },
  {
   "cell_type": "code",
   "execution_count": 2,
   "id": "594d25da",
   "metadata": {},
   "outputs": [],
   "source": [
    "# authentication \n",
    "#for accessing the Twitter API firstly authentication needs to be done\n",
    "\n",
    "\n",
    "consumerKey = 'KyOw418JY8i5exAIreQBXzHgq'\n",
    "consumerSecret = 'EmkFCfAoj8MOhRHRTfopDg4FDeU3TghlcZpv7HVdjU5n8ODGfR'\n",
    "accessToken = '845656932539121665-oQFTwJfFuXlmDpeJefFQnJN825Ibu2f'\n",
    "accessTokenSecret = 'lb5aCSCZAwUMjeYdGWDwZplWUEYwvihKT0CKcYXbzKwbU'\n",
    "auth = tweepy.OAuthHandler(consumerKey, consumerSecret)\n",
    "auth.set_access_token(accessToken, accessTokenSecret)\n",
    "api = tweepy.API(auth)"
   ]
  },
  {
   "cell_type": "code",
   "execution_count": 4,
   "id": "370899fa",
   "metadata": {},
   "outputs": [
    {
     "name": "stdout",
     "output_type": "stream",
     "text": [
      "Enter keywords to search: Ocean\n",
      "Enter how many tweets to search: 100\n"
     ]
    }
   ],
   "source": [
    "# taking input from users\n",
    "#will put the keyword that I want to search for tweets\n",
    "\n",
    "\n",
    "\n",
    "search_tag = input(\"Enter keywords to search: \")\n",
    "NoOfTerms = int(input(\"Enter how many tweets to search: \"))\n",
    "\n",
    "tweets = []\n",
    "tweetText = []\n",
    "# searching for tweets\n",
    "tweets = tweepy.Cursor(api.search, q=search_tag+\" -filter:retweets\", lang = \"en\").items(NoOfTerms)\n",
    "#the 'Cursor' function specifies the social and language\n",
    "#the argument lang = 'en' specifies that here we are extracting data in English Language"
   ]
  },
  {
   "cell_type": "code",
   "execution_count": 5,
   "id": "c3b40adc",
   "metadata": {},
   "outputs": [],
   "source": [
    "tweetList = [tweet.text for tweet in tweets]  #creating a list the number of searched tweets"
   ]
  },
  {
   "cell_type": "code",
   "execution_count": 6,
   "id": "5b36c3f4",
   "metadata": {},
   "outputs": [
    {
     "name": "stdout",
     "output_type": "stream",
     "text": [
      "['Has anyone seen that video of fire I’m the ocean? Nobody on my timeline has shared it yet.', '@mathaiaus The whole ocean is now an onsen', \"@MichaelPasture @0urobro Gas it is. \\nThere'll be a time when there's bitcoin miners on rigs in the ocean, I hate to… https://t.co/uNKA63cHTN\", 'Fire in the middle of the ocean is alamat sa3a just sayin', '@intocryptoverse $OCEAN of course!\\n\\nConsidering everything that has been done lately by @oceanprotocol team, $OCEAN… https://t.co/UqGdy6LqZa', 'Performing The Babylon working in the heart of the ocean fire.\\nIt is time to release the Dark Phoenix.', 'Usually don’t post politics here but the ocean was literally burning. Time to stop using pipelines. \\n\\nVia my other… https://t.co/hJg3m6f8fG', 'Shining in the settin sun like a pearl upon the ocean come and feel me \\nO feel me \\nI used to mess this up so bad', 'Honestly if I was working one of those boats tasked with spraying water on the ocean I would just slack off and tak… https://t.co/RLixDbZzWW', 'me when im in the ocean https://t.co/PQZBHKoFgw', \"Aliens! Why were we told they're from space? What if they're from here? What's in the ocean? What's actually in the… https://t.co/MJQiArmCHt\", 'So the ocean is on fire https://t.co/bvdf03IfO8', 'Its easy to feel despair watching the Canadian heatwave, major floods or the literal ocean on fire\\n\\nBut we can do s… https://t.co/8RL1LjR67F', 'Hey is the ocean still on fire?', \"Looks like a portal to another dimension.\\n\\nWhy pour water 💦 on it when it's already in the ocean?\\n\\n#vechain #vet… https://t.co/CfnvjlbpPU\", 'This is how I’d be if I ever had to get in the ocean https://t.co/DyF4fXQxrN', 'People demonising the fire in the ocean, you’re just being devising and reactionary. We need to learn to live WITH… https://t.co/7Dz8WWLs22', 'The FAA said the pilots of the 737 plane reported engine trouble and were trying to return to Honolulu when they we… https://t.co/VH8LqJ3Gs2', '#ClimateChange effects the release of methane gas…under and in every ocean. This is what our entire watery planet c… https://t.co/RyptV0oKUM', 'Can’t believe the ocean was on literal fire can’t believe heatwaves are setting houses on fire can’t believe the gr… https://t.co/Br4xkkyOcp', '@paddyraffcomedy ocean on fire , proper 2020s behaviour', 'If $FET finishes this month at 1$ then next month will be epic!!! 🚀🚀🪐🌔\\n\\n$OCEAN $ONION $XVS $BAT $ALGO $THETA  $FET… https://t.co/EBE1fB49Gc', \"@dscdoies i just wanna know how it's possible for the ocean to be on fire 🧐\", 'We The Kingdom - Peace (Live At Ocean Way Nashville) https://t.co/TOCxCTXmkG via @YouTube', 'i was looking for ocean sunfish &amp; i caught napoleonfish instead xD #AnimalCrossing #ACNH #NintendoSwitch https://t.co/6zRPujbf2d', 'Gulf of Mexico has got a fire because an underwater gas pipeline ruptured. Humans caught the ocean on fire, someone… https://t.co/g734A9yjLQ', 'its wild that the ocean is on fire like how you gonna put that out????', 'i still can’t get over that they set a whole ocean on fire. Is water even real at this point??', \"@chimsvt True... But it's in the ocean.. isnt it supposed to cancel it 😭 i dont get chemistry im sorry\", 'mama….how is the ocean on fire x https://t.co/jMxo52iC52', '@T1LoL What in the world happened in game 2?  The entire team just started sitting around doing absolutely nothing… https://t.co/WRkKRPo4bF', '@dumi_ZAR @MrsPlugg The angle of approach perhaps? The ocean water is underneath, while the water they’re using is on sprayed on top.', 'The ocean is on fire. The...ocean...is on fire. https://t.co/xPPFHRguvf', 'tiny robots swimming around like fishing lures\\n\\nthe cost of a cold war to our ocean cousins is just a progression o… https://t.co/o6ZuL2qm7J', 'Greta Thunberg warned ye and now the actual ocean is on fire 🤦🏼\\u200d♂️ https://t.co/MvGe4NASA8', \"Two things I've recently learned are flammable:\\n- Canada\\n- The ocean\\n\\nTotally normal planet behaviour. Not at all a… https://t.co/XYnvUwgRru\", \"The o\\nThe o\\nThe ocean 's on fire\\nThe o\\nThe o\\nThe ocean 's on fire\\nWe don 't need  no water let the motherfucker bur… https://t.co/wm3aXzsd9g\", 'How does the ocean get on fire? https://t.co/dW1nt7nEex', 'Whatever youre doing today, at least youre not a boat spraying water on an underwater fire in the ocean https://t.co/3pHtIc7Bho', 'I hear the ocean is on fire!', '🚴🏻\\u200d♀️ Bike marking event 🚴🏾\\n\\nBring your pedal cycle down to the  @Ocean_Terminal  shopping centre on Saturday 7th J… https://t.co/zbK5w7dSxi', \"'Humans caught the ocean on fire': Gas pipeline fire in Gulf of Mexico creates shocking scene https://t.co/sTqbVUrz7z\", '@joinaunionpls @AyoCaesar They also dumped more plastic waste into the ocean than the rest of the top 5 ocean plastic polluters combined', \"The C7-class solar flare briefly ionized the top of Earth's atmosphere, causing a shortwave radio blackout around t… https://t.co/iRNlbrpHbV\", \"@Amanda_Umxhosa It's these gas and oil companies doing deep drilling in the ocean. There is an abundance of materia… https://t.co/nCMAncGPEC\", 'Flames erupt in Gulf of Mexico after gas pipeline catches fire https://t.co/whrkhcBXyr via @MailOnline', 'This is insane, our ocean in a 100 years is going be so polluted by these big oil rig leaks. It’s fucking sad  hope… https://t.co/Yljxqdu0Cn', 'Race 5 - Great Ocean Road Real Estate winner is Jimmy the Irishman NZ for trainer Adam Kelly and driver Zac Phillips https://t.co/tFFV9PJrX0', '@ilenproject What I love about the ocean and sky above it is it is never the same.  Like a snowflake.', 'A whole ocean is in fire? YHU the world is ending ka nnete https://t.co/clulp2bMy4', 'How the fuck do you manage to set the ocean on fire', '@JIUNGH0ME Frank ocean - big naughty', 'Ocean Viking rescue ship picks up migrants, hampered by coastguard https://t.co/7prCVhFY9e', '#OceanDepth … This Incredible Animation Shows How Deep The Ocean Really Is https://t.co/kYHX3QAalk via @YouTube', 'why is sandy in the ocean, and if she misses Texas so much, why won’t she go to the surface and find Texas?', \"An ocean of POWs from Abiy Ahmed's army in Mekelle. Abiy nor Ethiopians will ask for you. You are disposable for th… https://t.co/3fekaHBy5F\", 'The ocean is on fire. https://t.co/cpmf5qTlaC', \"@milesofsmiles25 @NorskLadyWolf I imagine it's probably a little different to have something break. Should humans h… https://t.co/4yvFHB1alj\", 'and yes something definitely did happen to people during lockdown. i am wavering between brain parasite from space,… https://t.co/JJq8rCy2i8', 'ride like the motion of the ocean', 'It was all the cold blooded murder that just seems to be at its peak this year, but now the ocean is literally on f… https://t.co/PSSTZjQfJX', 'tired of listening to Godspeed, Self-Control, and White Ferrari by Frank Ocean? Of course you don’t, that’s why add… https://t.co/vGsZGbfctc', 'Capitalism not cool anymore\\n\\nIt has been burning lives\\nAnd now the ocean on fire\\n\\n#oceanisonfire #oceanonfire #GulfofMexico #Capitalism', 'That shit crazy. A fire in the middle of the ocean https://t.co/6SJW3dy4R9', '@keithamccluskey @ejwwest @jimdtweet @rln_nelson @JohnDublin10 @WayneAllanH @HalBrow68884227 @Kenneth72712993… https://t.co/AiIP0DXSEC', 'Hurting someone’s feelings is as easy as throwing a rock in the ocean, but do you know how deep that rock goes?', 'Very concerned with the number of people who think they’re spraying water on the ocean fire…. https://t.co/TkUQnr6COF', '@AnthoXBT Is it right time to buy ocean now ?', 'How are they having to put out a fire in the middle of the f’kn ocean? https://t.co/7fO522xIl4', 'Coast Guard, firefighters #rescue 2 men after cargo plane crashes in ocean off Kalaeloa - Jul 3 @ 6:10 AM ET https://t.co/i2bFD8KdnJ', '@uhshanti It’s not even beautiful, it looks like a fucking open sore on the ocean surface', 'The ocean is litterally on fire\\n\\nJoin the rebellion, rise up! https://t.co/dDaPre34ob', 'As “the world’s biggest island” theoretically inhabited by ocean lovers, we’re not covering ourselves in glory. Yes… https://t.co/bOrPncgqAO', 'This is a story about Aurora and Prince Phillip, they lived in underwater kingdon, surrounded by the ocean. One day… https://t.co/CMXtcKotbV', \"@Mintyj30A minty i missed it 😭😭😭 anw the blue ocean's beautiful 😭😭😭\", \"ocean's 9 when\", \"@JJUN1EBARKS Can't wait to be part of that BLUE OCEAN😭😭❤️\", \"@TheRealTahinis @lemalive Like a drop of Tahini's extra hot sauce in the ocean 🔥\", '@APompliano People getting their knickers in a twist, this ain’t even a piss or a fart in the wind. Not even a pimp… https://t.co/SxVOlIuLfO', 'shit fuck scarier than the ocean https://t.co/LIgYZa0keV', '@tolstoybb Ya cause our options are fire hole in the ocean or financial boondoggles that take decades to plan and b… https://t.co/uZ3Srp6dem', 'The ocean is on fire….. like?!', 'My dumbass feels like a fire in the ocean would just put itself out.', 'the OCEAN CAUGHT FIRE !! https://t.co/yMwBPLFHzP', 'Ocean eyes • Son&amp;Dad', 'https://t.co/ruzV0Cy6Zm\\n\\nfrank ocean vibes with this song, 8/10', '82. “You must not lose faith in humanity. Humanity is an ocean; if a few drops of the ocean are dirty, the ocean do… https://t.co/a4UPqvoq5f', \"@siwonchoi 3)I see every part of you in God's creations as if they were all inspired by you💙radiance of stars from… https://t.co/A1MwasfS9A\", 'Fuck Three Lions this banger never gets enough love. Ocean Colour Scene, Echo and The Bunnymen, Space, Johnny Marr… https://t.co/UZRkgeUkeo', 'It\\'s not often a post in the technology subwiki makes us go \"ahhhhh,\" but this ocean sounds generator is relaxing a… https://t.co/uvFui0J7jW', 'Here are a few things I’m confused about,\\n1. Its a fire in the ocean\\n2. They are trying to put it out with more wat… https://t.co/2LIX2CLagB', '2021 really is the year of waking up and finding the ocean on fire. https://t.co/Xiqry5WXFU', 'In an exclusive clip \\xa0the\\xa0Thor\\xa0star helps researchers with their quest to learn more about the ocean-dwelling speci… https://t.co/lsmhr7VW8K', \"Oil company's seismic testing approval creates waves in Tasmanian fishing industry https://t.co/WfsMBFYyZs Approval… https://t.co/ETIaQKtqur\", 'I knew oil could burn but not this extent much less in an ocean. We learn everyday https://t.co/TqkvksDMcl', '@LibraryZak @poopoosyysusys1 The ocean is salt water', '@MrsPlugg But why are they putting it out using water if it’s already on fire in the fucking ocean????', 'How about we stop putting pipes under the ocean??? https://t.co/f1iuPnl1F6', 'At this point, we really just saying fuck the ocean, right….😐 https://t.co/8inW7Pckz0', 'the ocean is on fire sounds so ironic but it is']\n"
     ]
    }
   ],
   "source": [
    "print(tweetList)"
   ]
  },
  {
   "cell_type": "code",
   "execution_count": 7,
   "id": "40456368",
   "metadata": {},
   "outputs": [
    {
     "data": {
      "text/html": [
       "<div>\n",
       "<style scoped>\n",
       "    .dataframe tbody tr th:only-of-type {\n",
       "        vertical-align: middle;\n",
       "    }\n",
       "\n",
       "    .dataframe tbody tr th {\n",
       "        vertical-align: top;\n",
       "    }\n",
       "\n",
       "    .dataframe thead th {\n",
       "        text-align: right;\n",
       "    }\n",
       "</style>\n",
       "<table border=\"1\" class=\"dataframe\">\n",
       "  <thead>\n",
       "    <tr style=\"text-align: right;\">\n",
       "      <th></th>\n",
       "      <th>0</th>\n",
       "    </tr>\n",
       "  </thead>\n",
       "  <tbody>\n",
       "    <tr>\n",
       "      <th>0</th>\n",
       "      <td>Has anyone seen that video of fire I’m the oce...</td>\n",
       "    </tr>\n",
       "    <tr>\n",
       "      <th>1</th>\n",
       "      <td>@mathaiaus The whole ocean is now an onsen</td>\n",
       "    </tr>\n",
       "    <tr>\n",
       "      <th>2</th>\n",
       "      <td>@MichaelPasture @0urobro Gas it is. \\nThere'll...</td>\n",
       "    </tr>\n",
       "    <tr>\n",
       "      <th>3</th>\n",
       "      <td>Fire in the middle of the ocean is alamat sa3a...</td>\n",
       "    </tr>\n",
       "    <tr>\n",
       "      <th>4</th>\n",
       "      <td>@intocryptoverse $OCEAN of course!\\n\\nConsider...</td>\n",
       "    </tr>\n",
       "    <tr>\n",
       "      <th>...</th>\n",
       "      <td>...</td>\n",
       "    </tr>\n",
       "    <tr>\n",
       "      <th>95</th>\n",
       "      <td>@LibraryZak @poopoosyysusys1 The ocean is salt...</td>\n",
       "    </tr>\n",
       "    <tr>\n",
       "      <th>96</th>\n",
       "      <td>@MrsPlugg But why are they putting it out usin...</td>\n",
       "    </tr>\n",
       "    <tr>\n",
       "      <th>97</th>\n",
       "      <td>How about we stop putting pipes under the ocea...</td>\n",
       "    </tr>\n",
       "    <tr>\n",
       "      <th>98</th>\n",
       "      <td>At this point, we really just saying fuck the ...</td>\n",
       "    </tr>\n",
       "    <tr>\n",
       "      <th>99</th>\n",
       "      <td>the ocean is on fire sounds so ironic but it is</td>\n",
       "    </tr>\n",
       "  </tbody>\n",
       "</table>\n",
       "<p>100 rows × 1 columns</p>\n",
       "</div>"
      ],
      "text/plain": [
       "                                                    0\n",
       "0   Has anyone seen that video of fire I’m the oce...\n",
       "1          @mathaiaus The whole ocean is now an onsen\n",
       "2   @MichaelPasture @0urobro Gas it is. \\nThere'll...\n",
       "3   Fire in the middle of the ocean is alamat sa3a...\n",
       "4   @intocryptoverse $OCEAN of course!\\n\\nConsider...\n",
       "..                                                ...\n",
       "95  @LibraryZak @poopoosyysusys1 The ocean is salt...\n",
       "96  @MrsPlugg But why are they putting it out usin...\n",
       "97  How about we stop putting pipes under the ocea...\n",
       "98  At this point, we really just saying fuck the ...\n",
       "99    the ocean is on fire sounds so ironic but it is\n",
       "\n",
       "[100 rows x 1 columns]"
      ]
     },
     "execution_count": 7,
     "metadata": {},
     "output_type": "execute_result"
    }
   ],
   "source": [
    "#Converting the list to dataframne\n",
    "\n",
    "\n",
    "tweet_data = pd.DataFrame(tweetList)\n",
    "tweet_data"
   ]
  },
  {
   "cell_type": "markdown",
   "id": "4fec60fc",
   "metadata": {},
   "source": [
    " **Data Cleaning**"
   ]
  },
  {
   "cell_type": "markdown",
   "id": "9b6e803d",
   "metadata": {},
   "source": [
    "**Removing the Puntuation marks**"
   ]
  },
  {
   "cell_type": "code",
   "execution_count": 8,
   "id": "f24cceb4",
   "metadata": {},
   "outputs": [],
   "source": [
    "#To take out the meaningful insights it is important to clean the data to filter only the relevant part\n",
    "#firstly removing all the puntuation marks from the dataset\n",
    "#created a function that all types of puntuation marks and keeping only the alphabets and numeric data\n",
    "\n",
    "\n",
    "def clean_data(text):\n",
    "    return ' '.join(re.sub(\"(@[a-zA-Z0-9]+)|([^0-9A-Za-z])|(https://[\\w.]+/[\\w]+)\", \" \", text).split())\n",
    "\n",
    "tweet_data['cleaned_data'] = tweet_data[0].apply(clean_data)\n",
    "#now keeping the cleaned data creating a new column in the dataset"
   ]
  },
  {
   "cell_type": "code",
   "execution_count": 9,
   "id": "b3a09b50",
   "metadata": {},
   "outputs": [
    {
     "data": {
      "text/html": [
       "<div>\n",
       "<style scoped>\n",
       "    .dataframe tbody tr th:only-of-type {\n",
       "        vertical-align: middle;\n",
       "    }\n",
       "\n",
       "    .dataframe tbody tr th {\n",
       "        vertical-align: top;\n",
       "    }\n",
       "\n",
       "    .dataframe thead th {\n",
       "        text-align: right;\n",
       "    }\n",
       "</style>\n",
       "<table border=\"1\" class=\"dataframe\">\n",
       "  <thead>\n",
       "    <tr style=\"text-align: right;\">\n",
       "      <th></th>\n",
       "      <th>0</th>\n",
       "      <th>cleaned_data</th>\n",
       "    </tr>\n",
       "  </thead>\n",
       "  <tbody>\n",
       "    <tr>\n",
       "      <th>0</th>\n",
       "      <td>Has anyone seen that video of fire I’m the oce...</td>\n",
       "      <td>Has anyone seen that video of fire I m the oce...</td>\n",
       "    </tr>\n",
       "    <tr>\n",
       "      <th>1</th>\n",
       "      <td>@mathaiaus The whole ocean is now an onsen</td>\n",
       "      <td>The whole ocean is now an onsen</td>\n",
       "    </tr>\n",
       "    <tr>\n",
       "      <th>2</th>\n",
       "      <td>@MichaelPasture @0urobro Gas it is. \\nThere'll...</td>\n",
       "      <td>Gas it is There ll be a time when there s bitc...</td>\n",
       "    </tr>\n",
       "    <tr>\n",
       "      <th>3</th>\n",
       "      <td>Fire in the middle of the ocean is alamat sa3a...</td>\n",
       "      <td>Fire in the middle of the ocean is alamat sa3a...</td>\n",
       "    </tr>\n",
       "    <tr>\n",
       "      <th>4</th>\n",
       "      <td>@intocryptoverse $OCEAN of course!\\n\\nConsider...</td>\n",
       "      <td>OCEAN of course Considering everything that ha...</td>\n",
       "    </tr>\n",
       "  </tbody>\n",
       "</table>\n",
       "</div>"
      ],
      "text/plain": [
       "                                                   0  \\\n",
       "0  Has anyone seen that video of fire I’m the oce...   \n",
       "1         @mathaiaus The whole ocean is now an onsen   \n",
       "2  @MichaelPasture @0urobro Gas it is. \\nThere'll...   \n",
       "3  Fire in the middle of the ocean is alamat sa3a...   \n",
       "4  @intocryptoverse $OCEAN of course!\\n\\nConsider...   \n",
       "\n",
       "                                        cleaned_data  \n",
       "0  Has anyone seen that video of fire I m the oce...  \n",
       "1                    The whole ocean is now an onsen  \n",
       "2  Gas it is There ll be a time when there s bitc...  \n",
       "3  Fire in the middle of the ocean is alamat sa3a...  \n",
       "4  OCEAN of course Considering everything that ha...  "
      ]
     },
     "execution_count": 9,
     "metadata": {},
     "output_type": "execute_result"
    }
   ],
   "source": [
    "tweet_data.head(5)  #checking data if the punctuations has been removed or not"
   ]
  },
  {
   "cell_type": "code",
   "execution_count": 10,
   "id": "d0907d6e",
   "metadata": {},
   "outputs": [
    {
     "data": {
      "text/plain": [
       "0               Aliens! Why were we told they're from space? W...\n",
       "cleaned_data    Aliens Why were we told they re from space Wha...\n",
       "Name: 10, dtype: object"
      ]
     },
     "execution_count": 10,
     "metadata": {},
     "output_type": "execute_result"
    }
   ],
   "source": [
    "tweet_data.iloc[10]   #all the puntuation marks has been removed"
   ]
  },
  {
   "cell_type": "markdown",
   "id": "2b8bc348",
   "metadata": {},
   "source": [
    "**Dropping numbers**"
   ]
  },
  {
   "cell_type": "code",
   "execution_count": 11,
   "id": "1516fb5a",
   "metadata": {},
   "outputs": [],
   "source": [
    "def drop_numbers(listtext):\n",
    "    listtext_new = []\n",
    "    for i in listtext:\n",
    "        if not re.search('\\d', i):\n",
    "            listtext_new.append(i)\n",
    "    return ''.join(listtext_new)\n",
    "\n",
    "tweet_data['cleaned_data'] = tweet_data['cleaned_data'].apply(drop_numbers)"
   ]
  },
  {
   "cell_type": "code",
   "execution_count": 12,
   "id": "f4265265",
   "metadata": {},
   "outputs": [
    {
     "data": {
      "text/html": [
       "<div>\n",
       "<style scoped>\n",
       "    .dataframe tbody tr th:only-of-type {\n",
       "        vertical-align: middle;\n",
       "    }\n",
       "\n",
       "    .dataframe tbody tr th {\n",
       "        vertical-align: top;\n",
       "    }\n",
       "\n",
       "    .dataframe thead th {\n",
       "        text-align: right;\n",
       "    }\n",
       "</style>\n",
       "<table border=\"1\" class=\"dataframe\">\n",
       "  <thead>\n",
       "    <tr style=\"text-align: right;\">\n",
       "      <th></th>\n",
       "      <th>0</th>\n",
       "      <th>cleaned_data</th>\n",
       "    </tr>\n",
       "  </thead>\n",
       "  <tbody>\n",
       "    <tr>\n",
       "      <th>0</th>\n",
       "      <td>Has anyone seen that video of fire I’m the oce...</td>\n",
       "      <td>Has anyone seen that video of fire I m the oce...</td>\n",
       "    </tr>\n",
       "    <tr>\n",
       "      <th>1</th>\n",
       "      <td>@mathaiaus The whole ocean is now an onsen</td>\n",
       "      <td>The whole ocean is now an onsen</td>\n",
       "    </tr>\n",
       "    <tr>\n",
       "      <th>2</th>\n",
       "      <td>@MichaelPasture @0urobro Gas it is. \\nThere'll...</td>\n",
       "      <td>Gas it is There ll be a time when there s bitc...</td>\n",
       "    </tr>\n",
       "    <tr>\n",
       "      <th>3</th>\n",
       "      <td>Fire in the middle of the ocean is alamat sa3a...</td>\n",
       "      <td>Fire in the middle of the ocean is alamat saa ...</td>\n",
       "    </tr>\n",
       "    <tr>\n",
       "      <th>4</th>\n",
       "      <td>@intocryptoverse $OCEAN of course!\\n\\nConsider...</td>\n",
       "      <td>OCEAN of course Considering everything that ha...</td>\n",
       "    </tr>\n",
       "  </tbody>\n",
       "</table>\n",
       "</div>"
      ],
      "text/plain": [
       "                                                   0  \\\n",
       "0  Has anyone seen that video of fire I’m the oce...   \n",
       "1         @mathaiaus The whole ocean is now an onsen   \n",
       "2  @MichaelPasture @0urobro Gas it is. \\nThere'll...   \n",
       "3  Fire in the middle of the ocean is alamat sa3a...   \n",
       "4  @intocryptoverse $OCEAN of course!\\n\\nConsider...   \n",
       "\n",
       "                                        cleaned_data  \n",
       "0  Has anyone seen that video of fire I m the oce...  \n",
       "1                    The whole ocean is now an onsen  \n",
       "2  Gas it is There ll be a time when there s bitc...  \n",
       "3  Fire in the middle of the ocean is alamat saa ...  \n",
       "4  OCEAN of course Considering everything that ha...  "
      ]
     },
     "execution_count": 12,
     "metadata": {},
     "output_type": "execute_result"
    }
   ],
   "source": [
    "tweet_data.head(5)  #checking data if the numbers has been dropped or not"
   ]
  },
  {
   "cell_type": "code",
   "execution_count": 13,
   "id": "f263ca39",
   "metadata": {},
   "outputs": [
    {
     "data": {
      "text/plain": [
       "0               Has anyone seen that video of fire I’m the oce...\n",
       "cleaned_data    Has anyone seen that video of fire I m the oce...\n",
       "Name: 0, dtype: object"
      ]
     },
     "execution_count": 13,
     "metadata": {},
     "output_type": "execute_result"
    }
   ],
   "source": [
    "tweet_data.iloc[0]"
   ]
  },
  {
   "cell_type": "code",
   "execution_count": 14,
   "id": "67626502",
   "metadata": {},
   "outputs": [
    {
     "name": "stderr",
     "output_type": "stream",
     "text": [
      "[nltk_data] Downloading package wordnet to\n",
      "[nltk_data]     C:\\Users\\sunan\\AppData\\Roaming\\nltk_data...\n",
      "[nltk_data]   Package wordnet is already up-to-date!\n",
      "[nltk_data] Downloading package punkt to\n",
      "[nltk_data]     C:\\Users\\sunan\\AppData\\Roaming\\nltk_data...\n",
      "[nltk_data]   Package punkt is already up-to-date!\n"
     ]
    },
    {
     "data": {
      "text/plain": [
       "True"
      ]
     },
     "execution_count": 14,
     "metadata": {},
     "output_type": "execute_result"
    }
   ],
   "source": [
    "import nltk\n",
    "nltk.download('wordnet')\n",
    "nltk.download('punkt')"
   ]
  },
  {
   "cell_type": "markdown",
   "id": "4f5751bb",
   "metadata": {},
   "source": [
    " **Converting all the letters into lowercases** "
   ]
  },
  {
   "cell_type": "code",
   "execution_count": 15,
   "id": "14569a47",
   "metadata": {},
   "outputs": [],
   "source": [
    "def lower_case(text):    \n",
    "    text_words = word_tokenize(text)  \n",
    "    text_words_lower = [x.lower() for x in text_words]\n",
    "    return ' '.join(text_words_lower)\n",
    "\n",
    "tweet_data['cleaned_data'] = tweet_data['cleaned_data'].apply(lower_case)"
   ]
  },
  {
   "cell_type": "code",
   "execution_count": 16,
   "id": "f965f199",
   "metadata": {},
   "outputs": [
    {
     "ename": "TypeError",
     "evalue": "'numpy.ndarray' object is not callable",
     "output_type": "error",
     "traceback": [
      "\u001b[1;31m---------------------------------------------------------------------------\u001b[0m",
      "\u001b[1;31mTypeError\u001b[0m                                 Traceback (most recent call last)",
      "\u001b[1;32m<ipython-input-16-58af8e0b50c1>\u001b[0m in \u001b[0;36m<module>\u001b[1;34m\u001b[0m\n\u001b[1;32m----> 1\u001b[1;33m \u001b[0mtweet_data\u001b[0m\u001b[1;33m.\u001b[0m\u001b[0mvalues\u001b[0m\u001b[1;33m(\u001b[0m\u001b[1;33m)\u001b[0m\u001b[1;33m\u001b[0m\u001b[1;33m\u001b[0m\u001b[0m\n\u001b[0m",
      "\u001b[1;31mTypeError\u001b[0m: 'numpy.ndarray' object is not callable"
     ]
    }
   ],
   "source": [
    "tweet_data.values()"
   ]
  },
  {
   "cell_type": "code",
   "execution_count": 17,
   "id": "ada1182e",
   "metadata": {},
   "outputs": [
    {
     "data": {
      "text/plain": [
       "array(['has anyone seen that video of fire i m the ocean nobody on my timeline has shared it yet',\n",
       "       'the whole ocean is now an onsen',\n",
       "       'gas it is there ll be a time when there s bitcoin miners on rigs in the ocean i hate to',\n",
       "       'fire in the middle of the ocean is alamat saa just sayin',\n",
       "       'ocean of course considering everything that has been done lately by team ocean',\n",
       "       'performing the babylon working in the heart of the ocean fire it is time to release the dark phoenix',\n",
       "       'usually don t post politics here but the ocean was literally burning time to stop using pipelines via my other',\n",
       "       'shining in the settin sun like a pearl upon the ocean come and feel me o feel me i used to mess this up so bad',\n",
       "       'honestly if i was working one of those boats tasked with spraying water on the ocean i would just slack off and tak',\n",
       "       'me when im in the ocean',\n",
       "       'aliens why were we told they re from space what if they re from here what s in the ocean what s actually in the',\n",
       "       'so the ocean is on fire',\n",
       "       'its easy to feel despair watching the canadian heatwave major floods or the literal ocean on fire but we can do s',\n",
       "       'hey is the ocean still on fire',\n",
       "       'looks like a portal to another dimension why pour water on it when it s already in the ocean vechain vet',\n",
       "       'this is how i d be if i ever had to get in the ocean',\n",
       "       'people demonising the fire in the ocean you re just being devising and reactionary we need to learn to live with',\n",
       "       'the faa said the pilots of the plane reported engine trouble and were trying to return to honolulu when they we',\n",
       "       'climatechange effects the release of methane gas under and in every ocean this is what our entire watery planet c',\n",
       "       'can t believe the ocean was on literal fire can t believe heatwaves are setting houses on fire can t believe the gr',\n",
       "       'ocean on fire proper s behaviour',\n",
       "       'if fet finishes this month at then next month will be epic ocean onion xvs bat algo theta fet',\n",
       "       'i just wan na know how it s possible for the ocean to be on fire',\n",
       "       'we the kingdom peace live at ocean way nashville via',\n",
       "       'i was looking for ocean sunfish amp i caught napoleonfish instead xd animalcrossing acnh nintendoswitch',\n",
       "       'gulf of mexico has got a fire because an underwater gas pipeline ruptured humans caught the ocean on fire someone',\n",
       "       'its wild that the ocean is on fire like how you gon na put that out',\n",
       "       'i still can t get over that they set a whole ocean on fire is water even real at this point',\n",
       "       'true but it s in the ocean isnt it supposed to cancel it i dont get chemistry im sorry',\n",
       "       'mama how is the ocean on fire x',\n",
       "       'what in the world happened in game the entire team just started sitting around doing absolutely nothing',\n",
       "       'zar the angle of approach perhaps the ocean water is underneath while the water they re using is on sprayed on top',\n",
       "       'the ocean is on fire the ocean is on fire',\n",
       "       'tiny robots swimming around like fishing lures the cost of a cold war to our ocean cousins is just a progression o',\n",
       "       'greta thunberg warned ye and now the actual ocean is on fire',\n",
       "       'two things i ve recently learned are flammable canada the ocean totally normal planet behaviour not at all a',\n",
       "       'the o the o the ocean s on fire the o the o the ocean s on fire we don t need no water let the motherfucker bur',\n",
       "       'how does the ocean get on fire',\n",
       "       'whatever youre doing today at least youre not a boat spraying water on an underwater fire in the ocean',\n",
       "       'i hear the ocean is on fire',\n",
       "       'bike marking event bring your pedal cycle down to the terminal shopping centre on saturday th j',\n",
       "       'humans caught the ocean on fire gas pipeline fire in gulf of mexico creates shocking scene',\n",
       "       'they also dumped more plastic waste into the ocean than the rest of the top ocean plastic polluters combined',\n",
       "       'the c class solar flare briefly ionized the top of earth s atmosphere causing a shortwave radio blackout around t',\n",
       "       'umxhosa it s these gas and oil companies doing deep drilling in the ocean there is an abundance of materia',\n",
       "       'flames erupt in gulf of mexico after gas pipeline catches fire via',\n",
       "       'this is insane our ocean in a years is going be so polluted by these big oil rig leaks it s fucking sad hope',\n",
       "       'race great ocean road real estate winner is jimmy the irishman nz for trainer adam kelly and driver zac phillips',\n",
       "       'what i love about the ocean and sky above it is it is never the same like a snowflake',\n",
       "       'a whole ocean is in fire yhu the world is ending ka nnete',\n",
       "       'how the fuck do you manage to set the ocean on fire',\n",
       "       'frank ocean big naughty',\n",
       "       'ocean viking rescue ship picks up migrants hampered by coastguard',\n",
       "       'oceandepth this incredible animation shows how deep the ocean really is via',\n",
       "       'why is sandy in the ocean and if she misses texas so much why won t she go to the surface and find texas',\n",
       "       'an ocean of pows from abiy ahmed s army in mekelle abiy nor ethiopians will ask for you you are disposable for th',\n",
       "       'the ocean is on fire',\n",
       "       'i imagine it s probably a little different to have something break should humans h',\n",
       "       'and yes something definitely did happen to people during lockdown i am wavering between brain parasite from space',\n",
       "       'ride like the motion of the ocean',\n",
       "       'it was all the cold blooded murder that just seems to be at its peak this year but now the ocean is literally on f',\n",
       "       'tired of listening to godspeed self control and white ferrari by frank ocean of course you don t that s why add',\n",
       "       'capitalism not cool anymore it has been burning lives and now the ocean on fire oceanisonfire oceanonfire gulfofmexico capitalism',\n",
       "       'that shit crazy a fire in the middle of the ocean', 'nelson',\n",
       "       'hurting someone s feelings is as easy as throwing a rock in the ocean but do you know how deep that rock goes',\n",
       "       'very concerned with the number of people who think they re spraying water on the ocean fire',\n",
       "       'is it right time to buy ocean now',\n",
       "       'how are they having to put out a fire in the middle of the f kn ocean',\n",
       "       'coast guard firefighters rescue men after cargo plane crashes in ocean off kalaeloa jul am et',\n",
       "       'it s not even beautiful it looks like a fucking open sore on the ocean surface',\n",
       "       'the ocean is litterally on fire join the rebellion rise up',\n",
       "       'as the world s biggest island theoretically inhabited by ocean lovers we re not covering ourselves in glory yes',\n",
       "       'this is a story about aurora and prince phillip they lived in underwater kingdon surrounded by the ocean one day',\n",
       "       'minty i missed it anw the blue ocean s beautiful', 'ocean s when',\n",
       "       'can t wait to be part of that blue ocean',\n",
       "       'like a drop of tahini s extra hot sauce in the ocean',\n",
       "       'people getting their knickers in a twist this ain t even a piss or a fart in the wind not even a pimp',\n",
       "       'shit fuck scarier than the ocean',\n",
       "       'ya cause our options are fire hole in the ocean or financial boondoggles that take decades to plan and b',\n",
       "       'the ocean is on fire like',\n",
       "       'my dumbass feels like a fire in the ocean would just put itself out',\n",
       "       'the ocean caught fire', 'ocean eyes son amp dad',\n",
       "       'frank ocean vibes with this song',\n",
       "       'you must not lose faith in humanity humanity is an ocean if a few drops of the ocean are dirty the ocean do',\n",
       "       'i see every part of you in god s creations as if they were all inspired by you radiance of stars from',\n",
       "       'fuck three lions this banger never gets enough love ocean colour scene echo and the bunnymen space johnny marr',\n",
       "       'it s not often a post in the technology subwiki makes us go ahhhhh but this ocean sounds generator is relaxing a',\n",
       "       'here are a few things i m confused about its a fire in the ocean they are trying to put it out with more wat',\n",
       "       'really is the year of waking up and finding the ocean on fire',\n",
       "       'in an exclusive clip the thor star helps researchers with their quest to learn more about the ocean dwelling speci',\n",
       "       'oil company s seismic testing approval creates waves in tasmanian fishing industry approval',\n",
       "       'i knew oil could burn but not this extent much less in an ocean we learn everyday',\n",
       "       'the ocean is salt water',\n",
       "       'but why are they putting it out using water if it s already on fire in the fucking ocean',\n",
       "       'how about we stop putting pipes under the ocean',\n",
       "       'at this point we really just saying fuck the ocean right',\n",
       "       'the ocean is on fire sounds so ironic but it is'], dtype=object)"
      ]
     },
     "execution_count": 17,
     "metadata": {},
     "output_type": "execute_result"
    }
   ],
   "source": [
    "tweet_data['cleaned_data'].values  #all texts has been converted to lowercase letters"
   ]
  },
  {
   "cell_type": "markdown",
   "id": "e11416dc",
   "metadata": {},
   "source": [
    "**Lemmatization**"
   ]
  },
  {
   "cell_type": "code",
   "execution_count": 18,
   "id": "597926bc",
   "metadata": {},
   "outputs": [],
   "source": [
    "lemmatizer = WordNetLemmatizer()  #lemmatization converts the words to the root/base forms\n",
    "def lemmatise(text):\n",
    "    text_tokens = word_tokenize(text)\n",
    "    text_lemm = [lemmatizer.lemmatize(word) for word in text_tokens]\n",
    "    return ' '.join(text_lemm)\n",
    "\n",
    "tweet_data['cleaned_data'] = tweet_data['cleaned_data'].apply(lemmatise)"
   ]
  },
  {
   "cell_type": "code",
   "execution_count": 19,
   "id": "6bd608b6",
   "metadata": {},
   "outputs": [
    {
     "data": {
      "text/plain": [
       "array(['ha anyone seen that video of fire i m the ocean nobody on my timeline ha shared it yet',\n",
       "       'the whole ocean is now an onsen',\n",
       "       'gas it is there ll be a time when there s bitcoin miner on rig in the ocean i hate to',\n",
       "       'fire in the middle of the ocean is alamat saa just sayin',\n",
       "       'ocean of course considering everything that ha been done lately by team ocean',\n",
       "       'performing the babylon working in the heart of the ocean fire it is time to release the dark phoenix',\n",
       "       'usually don t post politics here but the ocean wa literally burning time to stop using pipeline via my other',\n",
       "       'shining in the settin sun like a pearl upon the ocean come and feel me o feel me i used to mess this up so bad',\n",
       "       'honestly if i wa working one of those boat tasked with spraying water on the ocean i would just slack off and tak',\n",
       "       'me when im in the ocean',\n",
       "       'alien why were we told they re from space what if they re from here what s in the ocean what s actually in the',\n",
       "       'so the ocean is on fire',\n",
       "       'it easy to feel despair watching the canadian heatwave major flood or the literal ocean on fire but we can do s',\n",
       "       'hey is the ocean still on fire',\n",
       "       'look like a portal to another dimension why pour water on it when it s already in the ocean vechain vet',\n",
       "       'this is how i d be if i ever had to get in the ocean',\n",
       "       'people demonising the fire in the ocean you re just being devising and reactionary we need to learn to live with',\n",
       "       'the faa said the pilot of the plane reported engine trouble and were trying to return to honolulu when they we',\n",
       "       'climatechange effect the release of methane gas under and in every ocean this is what our entire watery planet c',\n",
       "       'can t believe the ocean wa on literal fire can t believe heatwaves are setting house on fire can t believe the gr',\n",
       "       'ocean on fire proper s behaviour',\n",
       "       'if fet finish this month at then next month will be epic ocean onion xv bat algo theta fet',\n",
       "       'i just wan na know how it s possible for the ocean to be on fire',\n",
       "       'we the kingdom peace live at ocean way nashville via',\n",
       "       'i wa looking for ocean sunfish amp i caught napoleonfish instead xd animalcrossing acnh nintendoswitch',\n",
       "       'gulf of mexico ha got a fire because an underwater gas pipeline ruptured human caught the ocean on fire someone',\n",
       "       'it wild that the ocean is on fire like how you gon na put that out',\n",
       "       'i still can t get over that they set a whole ocean on fire is water even real at this point',\n",
       "       'true but it s in the ocean isnt it supposed to cancel it i dont get chemistry im sorry',\n",
       "       'mama how is the ocean on fire x',\n",
       "       'what in the world happened in game the entire team just started sitting around doing absolutely nothing',\n",
       "       'zar the angle of approach perhaps the ocean water is underneath while the water they re using is on sprayed on top',\n",
       "       'the ocean is on fire the ocean is on fire',\n",
       "       'tiny robot swimming around like fishing lure the cost of a cold war to our ocean cousin is just a progression o',\n",
       "       'greta thunberg warned ye and now the actual ocean is on fire',\n",
       "       'two thing i ve recently learned are flammable canada the ocean totally normal planet behaviour not at all a',\n",
       "       'the o the o the ocean s on fire the o the o the ocean s on fire we don t need no water let the motherfucker bur',\n",
       "       'how doe the ocean get on fire',\n",
       "       'whatever youre doing today at least youre not a boat spraying water on an underwater fire in the ocean',\n",
       "       'i hear the ocean is on fire',\n",
       "       'bike marking event bring your pedal cycle down to the terminal shopping centre on saturday th j',\n",
       "       'human caught the ocean on fire gas pipeline fire in gulf of mexico creates shocking scene',\n",
       "       'they also dumped more plastic waste into the ocean than the rest of the top ocean plastic polluter combined',\n",
       "       'the c class solar flare briefly ionized the top of earth s atmosphere causing a shortwave radio blackout around t',\n",
       "       'umxhosa it s these gas and oil company doing deep drilling in the ocean there is an abundance of materia',\n",
       "       'flame erupt in gulf of mexico after gas pipeline catch fire via',\n",
       "       'this is insane our ocean in a year is going be so polluted by these big oil rig leak it s fucking sad hope',\n",
       "       'race great ocean road real estate winner is jimmy the irishman nz for trainer adam kelly and driver zac phillips',\n",
       "       'what i love about the ocean and sky above it is it is never the same like a snowflake',\n",
       "       'a whole ocean is in fire yhu the world is ending ka nnete',\n",
       "       'how the fuck do you manage to set the ocean on fire',\n",
       "       'frank ocean big naughty',\n",
       "       'ocean viking rescue ship pick up migrant hampered by coastguard',\n",
       "       'oceandepth this incredible animation show how deep the ocean really is via',\n",
       "       'why is sandy in the ocean and if she miss texas so much why won t she go to the surface and find texas',\n",
       "       'an ocean of pow from abiy ahmed s army in mekelle abiy nor ethiopian will ask for you you are disposable for th',\n",
       "       'the ocean is on fire',\n",
       "       'i imagine it s probably a little different to have something break should human h',\n",
       "       'and yes something definitely did happen to people during lockdown i am wavering between brain parasite from space',\n",
       "       'ride like the motion of the ocean',\n",
       "       'it wa all the cold blooded murder that just seems to be at it peak this year but now the ocean is literally on f',\n",
       "       'tired of listening to godspeed self control and white ferrari by frank ocean of course you don t that s why add',\n",
       "       'capitalism not cool anymore it ha been burning life and now the ocean on fire oceanisonfire oceanonfire gulfofmexico capitalism',\n",
       "       'that shit crazy a fire in the middle of the ocean', 'nelson',\n",
       "       'hurting someone s feeling is a easy a throwing a rock in the ocean but do you know how deep that rock go',\n",
       "       'very concerned with the number of people who think they re spraying water on the ocean fire',\n",
       "       'is it right time to buy ocean now',\n",
       "       'how are they having to put out a fire in the middle of the f kn ocean',\n",
       "       'coast guard firefighter rescue men after cargo plane crash in ocean off kalaeloa jul am et',\n",
       "       'it s not even beautiful it look like a fucking open sore on the ocean surface',\n",
       "       'the ocean is litterally on fire join the rebellion rise up',\n",
       "       'a the world s biggest island theoretically inhabited by ocean lover we re not covering ourselves in glory yes',\n",
       "       'this is a story about aurora and prince phillip they lived in underwater kingdon surrounded by the ocean one day',\n",
       "       'minty i missed it anw the blue ocean s beautiful', 'ocean s when',\n",
       "       'can t wait to be part of that blue ocean',\n",
       "       'like a drop of tahini s extra hot sauce in the ocean',\n",
       "       'people getting their knickers in a twist this ain t even a piss or a fart in the wind not even a pimp',\n",
       "       'shit fuck scarier than the ocean',\n",
       "       'ya cause our option are fire hole in the ocean or financial boondoggle that take decade to plan and b',\n",
       "       'the ocean is on fire like',\n",
       "       'my dumbass feel like a fire in the ocean would just put itself out',\n",
       "       'the ocean caught fire', 'ocean eye son amp dad',\n",
       "       'frank ocean vibe with this song',\n",
       "       'you must not lose faith in humanity humanity is an ocean if a few drop of the ocean are dirty the ocean do',\n",
       "       'i see every part of you in god s creation a if they were all inspired by you radiance of star from',\n",
       "       'fuck three lion this banger never get enough love ocean colour scene echo and the bunnymen space johnny marr',\n",
       "       'it s not often a post in the technology subwiki make u go ahhhhh but this ocean sound generator is relaxing a',\n",
       "       'here are a few thing i m confused about it a fire in the ocean they are trying to put it out with more wat',\n",
       "       'really is the year of waking up and finding the ocean on fire',\n",
       "       'in an exclusive clip the thor star help researcher with their quest to learn more about the ocean dwelling speci',\n",
       "       'oil company s seismic testing approval creates wave in tasmanian fishing industry approval',\n",
       "       'i knew oil could burn but not this extent much le in an ocean we learn everyday',\n",
       "       'the ocean is salt water',\n",
       "       'but why are they putting it out using water if it s already on fire in the fucking ocean',\n",
       "       'how about we stop putting pipe under the ocean',\n",
       "       'at this point we really just saying fuck the ocean right',\n",
       "       'the ocean is on fire sound so ironic but it is'], dtype=object)"
      ]
     },
     "execution_count": 19,
     "metadata": {},
     "output_type": "execute_result"
    }
   ],
   "source": [
    "tweet_data['cleaned_data'].values"
   ]
  },
  {
   "cell_type": "markdown",
   "id": "8e1a6e80",
   "metadata": {},
   "source": [
    "**Removing Stopword**"
   ]
  },
  {
   "cell_type": "code",
   "execution_count": 22,
   "id": "e30f75ba",
   "metadata": {},
   "outputs": [
    {
     "name": "stderr",
     "output_type": "stream",
     "text": [
      "[nltk_data] Downloading package stopwords to\n",
      "[nltk_data]     C:\\Users\\sunan\\AppData\\Roaming\\nltk_data...\n",
      "[nltk_data]   Unzipping corpora\\stopwords.zip.\n"
     ]
    }
   ],
   "source": [
    "nltk.download('stopwords')\n",
    "\n",
    "def remove_stopword(text):\n",
    "    text_tokens = word_tokenize(text)\n",
    "    tokens = [word for word in text_tokens if not word in set(stopwords.words('english'))]\n",
    "    tokens_text = ' '.join(tokens)\n",
    "    return tokens_text\n",
    "\n",
    "tweet_data['cleaned_data'] = tweet_data['cleaned_data'].apply(remove_stopword)"
   ]
  },
  {
   "cell_type": "code",
   "execution_count": 23,
   "id": "316c4fb4",
   "metadata": {},
   "outputs": [
    {
     "data": {
      "text/plain": [
       "array(['ha anyone seen video fire ocean nobody timeline ha shared yet',\n",
       "       'whole ocean onsen', 'gas time bitcoin miner rig ocean hate',\n",
       "       'fire middle ocean alamat saa sayin',\n",
       "       'ocean course considering everything ha done lately team ocean',\n",
       "       'performing babylon working heart ocean fire time release dark phoenix',\n",
       "       'usually post politics ocean wa literally burning time stop using pipeline via',\n",
       "       'shining settin sun like pearl upon ocean come feel feel used mess bad',\n",
       "       'honestly wa working one boat tasked spraying water ocean would slack tak',\n",
       "       'im ocean', 'alien told space ocean actually', 'ocean fire',\n",
       "       'easy feel despair watching canadian heatwave major flood literal ocean fire',\n",
       "       'hey ocean still fire',\n",
       "       'look like portal another dimension pour water already ocean vechain vet',\n",
       "       'ever get ocean',\n",
       "       'people demonising fire ocean devising reactionary need learn live',\n",
       "       'faa said pilot plane reported engine trouble trying return honolulu',\n",
       "       'climatechange effect release methane gas every ocean entire watery planet c',\n",
       "       'believe ocean wa literal fire believe heatwaves setting house fire believe gr',\n",
       "       'ocean fire proper behaviour',\n",
       "       'fet finish month next month epic ocean onion xv bat algo theta fet',\n",
       "       'wan na know possible ocean fire',\n",
       "       'kingdom peace live ocean way nashville via',\n",
       "       'wa looking ocean sunfish amp caught napoleonfish instead xd animalcrossing acnh nintendoswitch',\n",
       "       'gulf mexico ha got fire underwater gas pipeline ruptured human caught ocean fire someone',\n",
       "       'wild ocean fire like gon na put',\n",
       "       'still get set whole ocean fire water even real point',\n",
       "       'true ocean isnt supposed cancel dont get chemistry im sorry',\n",
       "       'mama ocean fire x',\n",
       "       'world happened game entire team started sitting around absolutely nothing',\n",
       "       'zar angle approach perhaps ocean water underneath water using sprayed top',\n",
       "       'ocean fire ocean fire',\n",
       "       'tiny robot swimming around like fishing lure cost cold war ocean cousin progression',\n",
       "       'greta thunberg warned ye actual ocean fire',\n",
       "       'two thing recently learned flammable canada ocean totally normal planet behaviour',\n",
       "       'ocean fire ocean fire need water let motherfucker bur',\n",
       "       'doe ocean get fire',\n",
       "       'whatever youre today least youre boat spraying water underwater fire ocean',\n",
       "       'hear ocean fire',\n",
       "       'bike marking event bring pedal cycle terminal shopping centre saturday th j',\n",
       "       'human caught ocean fire gas pipeline fire gulf mexico creates shocking scene',\n",
       "       'also dumped plastic waste ocean rest top ocean plastic polluter combined',\n",
       "       'c class solar flare briefly ionized top earth atmosphere causing shortwave radio blackout around',\n",
       "       'umxhosa gas oil company deep drilling ocean abundance materia',\n",
       "       'flame erupt gulf mexico gas pipeline catch fire via',\n",
       "       'insane ocean year going polluted big oil rig leak fucking sad hope',\n",
       "       'race great ocean road real estate winner jimmy irishman nz trainer adam kelly driver zac phillips',\n",
       "       'love ocean sky never like snowflake',\n",
       "       'whole ocean fire yhu world ending ka nnete',\n",
       "       'fuck manage set ocean fire', 'frank ocean big naughty',\n",
       "       'ocean viking rescue ship pick migrant hampered coastguard',\n",
       "       'oceandepth incredible animation show deep ocean really via',\n",
       "       'sandy ocean miss texas much go surface find texas',\n",
       "       'ocean pow abiy ahmed army mekelle abiy ethiopian ask disposable th',\n",
       "       'ocean fire',\n",
       "       'imagine probably little different something break human h',\n",
       "       'yes something definitely happen people lockdown wavering brain parasite space',\n",
       "       'ride like motion ocean',\n",
       "       'wa cold blooded murder seems peak year ocean literally f',\n",
       "       'tired listening godspeed self control white ferrari frank ocean course add',\n",
       "       'capitalism cool anymore ha burning life ocean fire oceanisonfire oceanonfire gulfofmexico capitalism',\n",
       "       'shit crazy fire middle ocean', 'nelson',\n",
       "       'hurting someone feeling easy throwing rock ocean know deep rock go',\n",
       "       'concerned number people think spraying water ocean fire',\n",
       "       'right time buy ocean', 'put fire middle f kn ocean',\n",
       "       'coast guard firefighter rescue men cargo plane crash ocean kalaeloa jul et',\n",
       "       'even beautiful look like fucking open sore ocean surface',\n",
       "       'ocean litterally fire join rebellion rise',\n",
       "       'world biggest island theoretically inhabited ocean lover covering glory yes',\n",
       "       'story aurora prince phillip lived underwater kingdon surrounded ocean one day',\n",
       "       'minty missed anw blue ocean beautiful', 'ocean',\n",
       "       'wait part blue ocean', 'like drop tahini extra hot sauce ocean',\n",
       "       'people getting knickers twist even piss fart wind even pimp',\n",
       "       'shit fuck scarier ocean',\n",
       "       'ya cause option fire hole ocean financial boondoggle take decade plan b',\n",
       "       'ocean fire like', 'dumbass feel like fire ocean would put',\n",
       "       'ocean caught fire', 'ocean eye son amp dad',\n",
       "       'frank ocean vibe song',\n",
       "       'must lose faith humanity humanity ocean drop ocean dirty ocean',\n",
       "       'see every part god creation inspired radiance star',\n",
       "       'fuck three lion banger never get enough love ocean colour scene echo bunnymen space johnny marr',\n",
       "       'often post technology subwiki make u go ahhhhh ocean sound generator relaxing',\n",
       "       'thing confused fire ocean trying put wat',\n",
       "       'really year waking finding ocean fire',\n",
       "       'exclusive clip thor star help researcher quest learn ocean dwelling speci',\n",
       "       'oil company seismic testing approval creates wave tasmanian fishing industry approval',\n",
       "       'knew oil could burn extent much le ocean learn everyday',\n",
       "       'ocean salt water',\n",
       "       'putting using water already fire fucking ocean',\n",
       "       'stop putting pipe ocean', 'point really saying fuck ocean right',\n",
       "       'ocean fire sound ironic'], dtype=object)"
      ]
     },
     "execution_count": 23,
     "metadata": {},
     "output_type": "execute_result"
    }
   ],
   "source": [
    "tweet_data['cleaned_data'].values   #data cleaning complete"
   ]
  },
  {
   "cell_type": "markdown",
   "id": "98f23e0e",
   "metadata": {},
   "source": [
    "## Textblob Library for analyzing Sentiments"
   ]
  },
  {
   "cell_type": "code",
   "execution_count": 24,
   "id": "990ee96a",
   "metadata": {},
   "outputs": [],
   "source": [
    "#### NOTE:\n",
    "\n",
    "# now textblob library will be used for sentiment analyzing\n",
    "\n",
    "# TEXTBLOB : this has a function called \"Sentiment\" that returns polarity and subjectivity\n",
    "\n",
    "#Poalrity : determines the sentimental aspects of any opinion. It ranges between -1 to +1\n",
    "# Sentiment polarity can be positive, negative or neutral\n",
    "\n",
    "# -1 means ---- negative sentiment\n",
    "# +1 means ---- positive sentiment\n",
    "# 0 means ---- neutral sentiment\n"
   ]
  },
  {
   "cell_type": "markdown",
   "id": "92a3b796",
   "metadata": {},
   "source": [
    "### Calculating the Polarity of the Reviews : The number of positive, negative and neutral statements"
   ]
  },
  {
   "cell_type": "code",
   "execution_count": 26,
   "id": "89d4a1ec",
   "metadata": {},
   "outputs": [],
   "source": [
    "#divided all the data into three categories\n",
    "\n",
    "def get_polarity(text):\n",
    "    textblob = TextBlob(str(text))\n",
    "    pol = textblob.sentiment.polarity\n",
    "    if(pol==0):\n",
    "        return \"Neutral\"\n",
    "    elif(pol>0 and pol<=+1):\n",
    "        return \"Positive\"   \n",
    "    elif(pol>-1 and pol<0):\n",
    "        return \"Negative\"\n",
    "    \n",
    "tweet_data['polarity'] = tweet_data['cleaned_data'].apply(get_polarity)"
   ]
  },
  {
   "cell_type": "code",
   "execution_count": 27,
   "id": "36957371",
   "metadata": {},
   "outputs": [
    {
     "data": {
      "text/plain": [
       "Neutral     48\n",
       "Positive    28\n",
       "Negative    24\n",
       "Name: polarity, dtype: int64"
      ]
     },
     "execution_count": 27,
     "metadata": {},
     "output_type": "execute_result"
    }
   ],
   "source": [
    "tweet_data['polarity'].value_counts()   #shows the type of reviews"
   ]
  },
  {
   "cell_type": "markdown",
   "id": "c15cf3d0",
   "metadata": {},
   "source": [
    "### Calculate Average Polarity"
   ]
  },
  {
   "cell_type": "code",
   "execution_count": 30,
   "id": "5fd1959c",
   "metadata": {},
   "outputs": [],
   "source": [
    "polarity = 0\n",
    "neutral=0\n",
    "positive=0\n",
    "negative=0\n",
    "\n",
    "for i in range(0,100):\n",
    "    textblob = TextBlob(str(tweet_data['cleaned_data'][i]))\n",
    "    polarity+= textblob.sentiment.polarity\n",
    "    pol = textblob.sentiment.polarity\n",
    "    if (pol == 0):  \n",
    "        neutral += 1\n",
    "    elif (pol>0 and pol<=+1):\n",
    "         positive += 1\n",
    "    elif (pol>-1 and pol<0):\n",
    "        positive += 1    "
   ]
  },
  {
   "cell_type": "code",
   "execution_count": 36,
   "id": "81d7e972",
   "metadata": {},
   "outputs": [
    {
     "data": {
      "text/plain": [
       "4.0673701298701287e-13"
      ]
     },
     "execution_count": 36,
     "metadata": {},
     "output_type": "execute_result"
    }
   ],
   "source": [
    "# average reaction\n",
    "polarity = polarity / NoOfTerms\n",
    "abs(polarity)"
   ]
  },
  {
   "cell_type": "markdown",
   "id": "a853bc6d",
   "metadata": {},
   "source": [
    "### Calculating a percentage value of overall data"
   ]
  },
  {
   "cell_type": "code",
   "execution_count": 38,
   "id": "66ad8feb",
   "metadata": {},
   "outputs": [],
   "source": [
    "def percentage(part, whole):\n",
    "    temp = 100 * float(part) / float(whole)\n",
    "    return format(temp, '.2f')\n",
    "\n",
    "\n",
    "# percentage of 3 types of sentiments\n",
    "positive = percentage(positive, NoOfTerms)\n",
    "negative = percentage(negative, NoOfTerms)\n",
    "neutral = percentage(neutral, NoOfTerms)"
   ]
  },
  {
   "cell_type": "code",
   "execution_count": 43,
   "id": "081a9802",
   "metadata": {},
   "outputs": [
    {
     "name": "stdout",
     "output_type": "stream",
     "text": [
      "Average General Report is : \n",
      "Positive\n",
      "\n",
      "\n",
      "\n",
      "The Detailed Report says: \n",
      "52.00% people thoughts were positive\n",
      "0.00% people thoughts were negative\n",
      "48.00% people thoughts were neutral\n"
     ]
    }
   ],
   "source": [
    "print(\"Average General Report is : \")\n",
    "if (polarity == 0):\n",
    "    print(\"Neutral\")\n",
    "elif (polarity > 0 and polarity <= +1):\n",
    "    print(\"Weakly Positive\")\n",
    "elif (polarity > -1 and polarity <0):\n",
    "    print(\"Positive\")\n",
    "    \n",
    "    \n",
    "print()\n",
    "print()\n",
    "print()\n",
    "\n",
    "print(\"The Detailed Report says: \")\n",
    "print(str(positive) + \"% people thoughts were positive\")\n",
    "print(str(negative) + \"% people thoughts were negative\")\n",
    "print(str(neutral) + \"% people thoughts were neutral\")"
   ]
  },
  {
   "cell_type": "markdown",
   "id": "2a738c10",
   "metadata": {},
   "source": [
    "## Report Visualization :  "
   ]
  },
  {
   "cell_type": "code",
   "execution_count": 74,
   "id": "469b31ce",
   "metadata": {},
   "outputs": [
    {
     "data": {
      "image/png": "[encoded data removed]",
      "text/plain": [
       "<Figure size 432x288 with 1 Axes>"
      ]
     },
     "metadata": {},
     "output_type": "display_data"
    }
   ],
   "source": [
    "sizes = [positive, neutral, negative]\n",
    "colors = ['blue','red','lightsalmon']\n",
    "labels = ['Positive [' + str(positive) + '%]',  'Neutral [' + str(neutral) + '%]',\n",
    "          'Negative [' + str(negative) + '%]']\n",
    "\n",
    "\n",
    "plt.pie(sizes, labels = labels, colors = colors, startangle=90, autopct='%1.1f%%', explode=(0,0,1), radius = 4)\n",
    "plt.legend(labels, loc=\"best\")\n",
    "plt.title('The reaction of people ' + search_tag+ ' by analyzing ' + str(NoOfTerms) + ' Tweets.', fontsize=10)\n",
    "plt.axis('equal')\n",
    "plt.tight_layout()\n",
    "plt.show()"
   ]
  }
 ],
 "metadata": {
  "kernelspec": {
   "display_name": "Python 3",
   "language": "python",
   "name": "python3"
  },
  "language_info": {
   "codemirror_mode": {
    "name": "ipython",
    "version": 3
   },
   "file_extension": ".py",
   "mimetype": "text/x-python",
   "name": "python",
   "nbconvert_exporter": "python",
   "pygments_lexer": "ipython3",
   "version": "3.8.5"
  }
 },
 "nbformat": 4,
 "nbformat_minor": 5
}
